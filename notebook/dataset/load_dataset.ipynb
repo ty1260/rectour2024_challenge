{
 "cells": [
  {
   "cell_type": "markdown",
   "metadata": {},
   "source": [
    "# load_dataset"
   ]
  },
  {
   "cell_type": "code",
   "execution_count": 1,
   "metadata": {
    "execution": {
     "iopub.execute_input": "2024-09-09T10:09:01.703484Z",
     "iopub.status.busy": "2024-09-09T10:09:01.700657Z",
     "iopub.status.idle": "2024-09-09T10:09:02.145394Z",
     "shell.execute_reply": "2024-09-09T10:09:02.141577Z"
    }
   },
   "outputs": [],
   "source": [
    "import polars as pl\n",
    "from pathlib import Path"
   ]
  },
  {
   "cell_type": "code",
   "execution_count": 2,
   "metadata": {
    "execution": {
     "iopub.execute_input": "2024-09-09T10:09:02.165946Z",
     "iopub.status.busy": "2024-09-09T10:09:02.163007Z",
     "iopub.status.idle": "2024-09-09T10:09:02.182056Z",
     "shell.execute_reply": "2024-09-09T10:09:02.178255Z"
    }
   },
   "outputs": [],
   "source": [
    "save_data_dir = Path(\"../../accommodation-reviews/rectour24/\")\n",
    "\n",
    "if not save_data_dir.exists():\n",
    "    save_data_dir.mkdir(parents=True)"
   ]
  },
  {
   "cell_type": "code",
   "execution_count": 3,
   "metadata": {
    "execution": {
     "iopub.execute_input": "2024-09-09T10:09:02.201774Z",
     "iopub.status.busy": "2024-09-09T10:09:02.198884Z",
     "iopub.status.idle": "2024-09-09T10:09:27.950534Z",
     "shell.execute_reply": "2024-09-09T10:09:27.946155Z"
    }
   },
   "outputs": [
    {
     "name": "stdout",
     "output_type": "stream",
     "text": [
      "train_users saved\n",
      "train_reviews saved\n",
      "train_matches saved\n",
      "val_users saved\n",
      "val_reviews saved\n",
      "val_matches saved\n",
      "test_users saved\n",
      "test_reviews saved\n"
     ]
    }
   ],
   "source": [
    "# load and save data\n",
    "hf_data_dir = 'hf://datasets/Booking-com/accommodation-reviews/rectour24/'\n",
    "\n",
    "# do not use train.csv and val.csv\n",
    "data_names = ['train_users', 'train_reviews', 'train_matches', 'val_users', 'val_reviews', 'val_matches', 'test_users', 'test_reviews']\n",
    "\n",
    "for data_name in data_names:\n",
    "    data = pl.read_csv(f\"{hf_data_dir}{data_name}.csv\")\n",
    "    data.write_csv(save_data_dir / f\"{data_name}.csv\")\n",
    "    print(f\"{data_name} saved\")"
   ]
  },
  {
   "cell_type": "code",
   "execution_count": 4,
   "metadata": {
    "execution": {
     "iopub.execute_input": "2024-09-09T10:09:27.969480Z",
     "iopub.status.busy": "2024-09-09T10:09:27.967573Z",
     "iopub.status.idle": "2024-09-09T10:09:28.062751Z",
     "shell.execute_reply": "2024-09-09T10:09:28.058758Z"
    }
   },
   "outputs": [
    {
     "data": {
      "text/html": [
       "<div><style>\n",
       ".dataframe > thead > tr,\n",
       ".dataframe > tbody > tr {\n",
       "  text-align: right;\n",
       "  white-space: pre-wrap;\n",
       "}\n",
       "</style>\n",
       "<small>shape: (5, 13)</small><table border=\"1\" class=\"dataframe\"><thead><tr><th>user_id</th><th>accommodation_id</th><th>guest_type</th><th>guest_country</th><th>room_nights</th><th>month</th><th>accommodation_type</th><th>accommodation_country</th><th>accommodation_score</th><th>accommodation_star_rating</th><th>location_is_ski</th><th>location_is_beach</th><th>location_is_city_center</th></tr><tr><td>str</td><td>i64</td><td>str</td><td>str</td><td>i64</td><td>i64</td><td>str</td><td>str</td><td>f64</td><td>f64</td><td>i64</td><td>i64</td><td>i64</td></tr></thead><tbody><tr><td>&quot;5f83c2ae-d803-4b4c-9d25-1226f9…</td><td>2086452554</td><td>&quot;Group&quot;</td><td>&quot;Xazas&quot;</td><td>1</td><td>3</td><td>&quot;Resort&quot;</td><td>&quot;New Zealand&quot;</td><td>8.3</td><td>3.0</td><td>1</td><td>0</td><td>0</td></tr><tr><td>&quot;a194a2ef-9487-4cf0-8828-dd5803…</td><td>-202362622</td><td>&quot;Family with children&quot;</td><td>&quot;Dawal&quot;</td><td>1</td><td>4</td><td>&quot;Guest house&quot;</td><td>&quot;Bosnia and Herzegovina&quot;</td><td>9.6</td><td>4.0</td><td>0</td><td>0</td><td>0</td></tr><tr><td>&quot;cfb878d0-af56-4b0d-90ff-87095b…</td><td>-1390928232</td><td>&quot;Group&quot;</td><td>&quot;Bemab&quot;</td><td>4</td><td>1</td><td>&quot;Hotel&quot;</td><td>&quot;Denmark&quot;</td><td>8.4</td><td>4.0</td><td>0</td><td>0</td><td>1</td></tr><tr><td>&quot;19ffcbff-8500-482a-b5af-c55cb4…</td><td>1007230055</td><td>&quot;Solo traveller&quot;</td><td>&quot;Mejok&quot;</td><td>2</td><td>5</td><td>&quot;Hostel&quot;</td><td>&quot;United Kingdom&quot;</td><td>7.0</td><td>0.0</td><td>0</td><td>0</td><td>0</td></tr><tr><td>&quot;98d6a06b-131c-464d-86e7-b74dd4…</td><td>135365139</td><td>&quot;Couple&quot;</td><td>&quot;Gobuf&quot;</td><td>1</td><td>5</td><td>&quot;Hotel&quot;</td><td>&quot;Ireland&quot;</td><td>7.8</td><td>4.0</td><td>0</td><td>0</td><td>0</td></tr></tbody></table></div>"
      ],
      "text/plain": [
       "shape: (5, 13)\n",
       "┌───────────┬───────────┬───────────┬───────────┬───┬───────────┬───────────┬───────────┬──────────┐\n",
       "│ user_id   ┆ accommoda ┆ guest_typ ┆ guest_cou ┆ … ┆ accommoda ┆ location_ ┆ location_ ┆ location │\n",
       "│ ---       ┆ tion_id   ┆ e         ┆ ntry      ┆   ┆ tion_star ┆ is_ski    ┆ is_beach  ┆ _is_city │\n",
       "│ str       ┆ ---       ┆ ---       ┆ ---       ┆   ┆ _rating   ┆ ---       ┆ ---       ┆ _center  │\n",
       "│           ┆ i64       ┆ str       ┆ str       ┆   ┆ ---       ┆ i64       ┆ i64       ┆ ---      │\n",
       "│           ┆           ┆           ┆           ┆   ┆ f64       ┆           ┆           ┆ i64      │\n",
       "╞═══════════╪═══════════╪═══════════╪═══════════╪═══╪═══════════╪═══════════╪═══════════╪══════════╡\n",
       "│ 5f83c2ae- ┆ 208645255 ┆ Group     ┆ Xazas     ┆ … ┆ 3.0       ┆ 1         ┆ 0         ┆ 0        │\n",
       "│ d803-4b4c ┆ 4         ┆           ┆           ┆   ┆           ┆           ┆           ┆          │\n",
       "│ -9d25-122 ┆           ┆           ┆           ┆   ┆           ┆           ┆           ┆          │\n",
       "│ 6f9…      ┆           ┆           ┆           ┆   ┆           ┆           ┆           ┆          │\n",
       "│ a194a2ef- ┆ -20236262 ┆ Family    ┆ Dawal     ┆ … ┆ 4.0       ┆ 0         ┆ 0         ┆ 0        │\n",
       "│ 9487-4cf0 ┆ 2         ┆ with      ┆           ┆   ┆           ┆           ┆           ┆          │\n",
       "│ -8828-dd5 ┆           ┆ children  ┆           ┆   ┆           ┆           ┆           ┆          │\n",
       "│ 803…      ┆           ┆           ┆           ┆   ┆           ┆           ┆           ┆          │\n",
       "│ cfb878d0- ┆ -13909282 ┆ Group     ┆ Bemab     ┆ … ┆ 4.0       ┆ 0         ┆ 0         ┆ 1        │\n",
       "│ af56-4b0d ┆ 32        ┆           ┆           ┆   ┆           ┆           ┆           ┆          │\n",
       "│ -90ff-870 ┆           ┆           ┆           ┆   ┆           ┆           ┆           ┆          │\n",
       "│ 95b…      ┆           ┆           ┆           ┆   ┆           ┆           ┆           ┆          │\n",
       "│ 19ffcbff- ┆ 100723005 ┆ Solo      ┆ Mejok     ┆ … ┆ 0.0       ┆ 0         ┆ 0         ┆ 0        │\n",
       "│ 8500-482a ┆ 5         ┆ traveller ┆           ┆   ┆           ┆           ┆           ┆          │\n",
       "│ -b5af-c55 ┆           ┆           ┆           ┆   ┆           ┆           ┆           ┆          │\n",
       "│ cb4…      ┆           ┆           ┆           ┆   ┆           ┆           ┆           ┆          │\n",
       "│ 98d6a06b- ┆ 135365139 ┆ Couple    ┆ Gobuf     ┆ … ┆ 4.0       ┆ 0         ┆ 0         ┆ 0        │\n",
       "│ 131c-464d ┆           ┆           ┆           ┆   ┆           ┆           ┆           ┆          │\n",
       "│ -86e7-b74 ┆           ┆           ┆           ┆   ┆           ┆           ┆           ┆          │\n",
       "│ dd4…      ┆           ┆           ┆           ┆   ┆           ┆           ┆           ┆          │\n",
       "└───────────┴───────────┴───────────┴───────────┴───┴───────────┴───────────┴───────────┴──────────┘"
      ]
     },
     "execution_count": 4,
     "metadata": {},
     "output_type": "execute_result"
    }
   ],
   "source": [
    "# load\n",
    "test_users = pl.read_csv(save_data_dir / \"test_users.csv\")\n",
    "test_users.head()"
   ]
  },
  {
   "cell_type": "code",
   "execution_count": null,
   "metadata": {},
   "outputs": [],
   "source": []
  }
 ],
 "metadata": {
  "kernelspec": {
   "display_name": "Python 3",
   "language": "python",
   "name": "python3"
  },
  "language_info": {
   "codemirror_mode": {
    "name": "ipython",
    "version": 3
   },
   "file_extension": ".py",
   "mimetype": "text/x-python",
   "name": "python",
   "nbconvert_exporter": "python",
   "pygments_lexer": "ipython3",
   "version": "3.8.10"
  }
 },
 "nbformat": 4,
 "nbformat_minor": 2
}
