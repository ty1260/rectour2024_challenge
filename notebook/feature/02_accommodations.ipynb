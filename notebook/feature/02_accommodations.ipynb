{
 "cells": [
  {
   "cell_type": "markdown",
   "metadata": {},
   "source": [
    "# 02_accommodations"
   ]
  },
  {
   "cell_type": "code",
   "execution_count": 1,
   "metadata": {
    "execution": {
     "iopub.execute_input": "2024-09-09T13:36:25.237564Z",
     "iopub.status.busy": "2024-09-09T13:36:25.234831Z",
     "iopub.status.idle": "2024-09-09T13:36:25.683213Z",
     "shell.execute_reply": "2024-09-09T13:36:25.679524Z"
    }
   },
   "outputs": [],
   "source": [
    "import polars as pl"
   ]
  },
  {
   "cell_type": "code",
   "execution_count": 2,
   "metadata": {
    "execution": {
     "iopub.execute_input": "2024-09-09T13:36:25.702597Z",
     "iopub.status.busy": "2024-09-09T13:36:25.700796Z",
     "iopub.status.idle": "2024-09-09T13:36:35.661882Z",
     "shell.execute_reply": "2024-09-09T13:36:35.658110Z"
    }
   },
   "outputs": [],
   "source": [
    "# load dataset\n",
    "save_data_dir = \"../../accommodation-reviews/preprocessed/\"\n",
    "\n",
    "train_reviews = pl.read_csv(save_data_dir + \"train_reviews.csv\")\n",
    "valid_reviews = pl.read_csv(save_data_dir + \"val_reviews.csv\")\n",
    "test_reviews = pl.read_csv(save_data_dir + \"test_reviews.csv\")"
   ]
  },
  {
   "cell_type": "code",
   "execution_count": 3,
   "metadata": {
    "execution": {
     "iopub.execute_input": "2024-09-09T13:36:35.680274Z",
     "iopub.status.busy": "2024-09-09T13:36:35.678487Z",
     "iopub.status.idle": "2024-09-09T13:36:37.565765Z",
     "shell.execute_reply": "2024-09-09T13:36:37.561928Z"
    }
   },
   "outputs": [
    {
     "data": {
      "text/html": [
       "<div><style>\n",
       ".dataframe > thead > tr,\n",
       ".dataframe > tbody > tr {\n",
       "  text-align: right;\n",
       "  white-space: pre-wrap;\n",
       "}\n",
       "</style>\n",
       "<small>shape: (40_000, 3)</small><table border=\"1\" class=\"dataframe\"><thead><tr><th>accommodation_id</th><th>accommodation_freq</th><th>mean_review_score</th></tr><tr><td>i64</td><td>u32</td><td>f64</td></tr></thead><tbody><tr><td>1429639933</td><td>10</td><td>7.6</td></tr><tr><td>-982069771</td><td>18</td><td>9.555556</td></tr><tr><td>639232339</td><td>15</td><td>9.466667</td></tr><tr><td>-1716647935</td><td>27</td><td>9.333333</td></tr><tr><td>-1671987170</td><td>23</td><td>9.217391</td></tr><tr><td>&hellip;</td><td>&hellip;</td><td>&hellip;</td></tr><tr><td>917554197</td><td>15</td><td>7.933333</td></tr><tr><td>1423724815</td><td>13</td><td>9.538462</td></tr><tr><td>-785621347</td><td>84</td><td>8.369048</td></tr><tr><td>-474066526</td><td>47</td><td>7.829787</td></tr><tr><td>1121382948</td><td>12</td><td>7.666667</td></tr></tbody></table></div>"
      ],
      "text/plain": [
       "shape: (40_000, 3)\n",
       "┌──────────────────┬────────────────────┬───────────────────┐\n",
       "│ accommodation_id ┆ accommodation_freq ┆ mean_review_score │\n",
       "│ ---              ┆ ---                ┆ ---               │\n",
       "│ i64              ┆ u32                ┆ f64               │\n",
       "╞══════════════════╪════════════════════╪═══════════════════╡\n",
       "│ 1429639933       ┆ 10                 ┆ 7.6               │\n",
       "│ -982069771       ┆ 18                 ┆ 9.555556          │\n",
       "│ 639232339        ┆ 15                 ┆ 9.466667          │\n",
       "│ -1716647935      ┆ 27                 ┆ 9.333333          │\n",
       "│ -1671987170      ┆ 23                 ┆ 9.217391          │\n",
       "│ …                ┆ …                  ┆ …                 │\n",
       "│ 917554197        ┆ 15                 ┆ 7.933333          │\n",
       "│ 1423724815       ┆ 13                 ┆ 9.538462          │\n",
       "│ -785621347       ┆ 84                 ┆ 8.369048          │\n",
       "│ -474066526       ┆ 47                 ┆ 7.829787          │\n",
       "│ 1121382948       ┆ 12                 ┆ 7.666667          │\n",
       "└──────────────────┴────────────────────┴───────────────────┘"
      ]
     },
     "execution_count": 3,
     "metadata": {},
     "output_type": "execute_result"
    }
   ],
   "source": [
    "train_reviews.group_by('accommodation_id').agg(pl.col('review_id'), pl.col('review_score').mean().alias('mean_review_score')).select(pl.col('accommodation_id'), pl.col('review_id').list.len().alias('accommodation_freq'), pl.col('mean_review_score'))"
   ]
  },
  {
   "cell_type": "code",
   "execution_count": 4,
   "metadata": {
    "execution": {
     "iopub.execute_input": "2024-09-09T13:36:37.706489Z",
     "iopub.status.busy": "2024-09-09T13:36:37.704601Z",
     "iopub.status.idle": "2024-09-09T13:36:37.763921Z",
     "shell.execute_reply": "2024-09-09T13:36:37.759876Z"
    }
   },
   "outputs": [
    {
     "data": {
      "text/html": [
       "<div><style>\n",
       ".dataframe > thead > tr,\n",
       ".dataframe > tbody > tr {\n",
       "  text-align: right;\n",
       "  white-space: pre-wrap;\n",
       "}\n",
       "</style>\n",
       "<small>shape: (5_000, 3)</small><table border=\"1\" class=\"dataframe\"><thead><tr><th>accommodation_id</th><th>accommodation_freq</th><th>mean_review_score</th></tr><tr><td>i64</td><td>u32</td><td>f64</td></tr></thead><tbody><tr><td>687246785</td><td>15</td><td>9.066667</td></tr><tr><td>-1084021632</td><td>48</td><td>9.041667</td></tr><tr><td>401779100</td><td>239</td><td>8.589958</td></tr><tr><td>-586048100</td><td>34</td><td>8.676471</td></tr><tr><td>-764217822</td><td>26</td><td>8.923077</td></tr><tr><td>&hellip;</td><td>&hellip;</td><td>&hellip;</td></tr><tr><td>-1101443602</td><td>37</td><td>8.297297</td></tr><tr><td>918106043</td><td>10</td><td>9.5</td></tr><tr><td>-1574925773</td><td>63</td><td>9.174603</td></tr><tr><td>1311817828</td><td>12</td><td>9.916667</td></tr><tr><td>1299224585</td><td>80</td><td>8.8625</td></tr></tbody></table></div>"
      ],
      "text/plain": [
       "shape: (5_000, 3)\n",
       "┌──────────────────┬────────────────────┬───────────────────┐\n",
       "│ accommodation_id ┆ accommodation_freq ┆ mean_review_score │\n",
       "│ ---              ┆ ---                ┆ ---               │\n",
       "│ i64              ┆ u32                ┆ f64               │\n",
       "╞══════════════════╪════════════════════╪═══════════════════╡\n",
       "│ 687246785        ┆ 15                 ┆ 9.066667          │\n",
       "│ -1084021632      ┆ 48                 ┆ 9.041667          │\n",
       "│ 401779100        ┆ 239                ┆ 8.589958          │\n",
       "│ -586048100       ┆ 34                 ┆ 8.676471          │\n",
       "│ -764217822       ┆ 26                 ┆ 8.923077          │\n",
       "│ …                ┆ …                  ┆ …                 │\n",
       "│ -1101443602      ┆ 37                 ┆ 8.297297          │\n",
       "│ 918106043        ┆ 10                 ┆ 9.5               │\n",
       "│ -1574925773      ┆ 63                 ┆ 9.174603          │\n",
       "│ 1311817828       ┆ 12                 ┆ 9.916667          │\n",
       "│ 1299224585       ┆ 80                 ┆ 8.8625            │\n",
       "└──────────────────┴────────────────────┴───────────────────┘"
      ]
     },
     "execution_count": 4,
     "metadata": {},
     "output_type": "execute_result"
    }
   ],
   "source": [
    "valid_reviews.group_by('accommodation_id').agg(pl.col('review_id'), pl.col('review_score').mean().alias('mean_review_score')).select(pl.col('accommodation_id'), pl.col('review_id').list.len().alias('accommodation_freq'), pl.col('mean_review_score'))"
   ]
  },
  {
   "cell_type": "code",
   "execution_count": 5,
   "metadata": {
    "execution": {
     "iopub.execute_input": "2024-09-09T13:36:37.782597Z",
     "iopub.status.busy": "2024-09-09T13:36:37.780737Z",
     "iopub.status.idle": "2024-09-09T13:36:39.888494Z",
     "shell.execute_reply": "2024-09-09T13:36:39.884341Z"
    }
   },
   "outputs": [],
   "source": [
    "# join\n",
    "train_reviews = train_reviews.join(\n",
    "    train_reviews.group_by('accommodation_id').agg(pl.col('review_id'), pl.col('review_score').mean().alias('mean_review_score')).select(pl.col('accommodation_id'), pl.col('review_id').list.len().alias('accommodation_freq'), pl.col('mean_review_score')),\n",
    "    on='accommodation_id',\n",
    "    how='left'\n",
    ")\n",
    "\n",
    "valid_reviews = valid_reviews.join(\n",
    "    valid_reviews.group_by('accommodation_id').agg(pl.col('review_id'), pl.col('review_score').mean().alias('mean_review_score')).select(pl.col('accommodation_id'), pl.col('review_id').list.len().alias('accommodation_freq'), pl.col('mean_review_score')),\n",
    "    on='accommodation_id',\n",
    "    how='left'\n",
    ")\n",
    "\n",
    "test_reviews = test_reviews.join(\n",
    "    test_reviews.group_by('accommodation_id').agg(pl.col('review_id'), pl.col('review_score').mean().alias('mean_review_score')).select(pl.col('accommodation_id'), pl.col('review_id').list.len().alias('accommodation_freq'), pl.col('mean_review_score')),\n",
    "    on='accommodation_id',\n",
    "    how='left'\n",
    ")"
   ]
  },
  {
   "cell_type": "code",
   "execution_count": 6,
   "metadata": {
    "execution": {
     "iopub.execute_input": "2024-09-09T13:36:39.909878Z",
     "iopub.status.busy": "2024-09-09T13:36:39.906591Z",
     "iopub.status.idle": "2024-09-09T13:36:46.368907Z",
     "shell.execute_reply": "2024-09-09T13:36:46.365011Z"
    }
   },
   "outputs": [],
   "source": [
    "# save to csv\n",
    "train_reviews.write_csv(save_data_dir + \"train_reviews.csv\")\n",
    "valid_reviews.write_csv(save_data_dir + \"val_reviews.csv\")\n",
    "test_reviews.write_csv(save_data_dir + \"test_reviews.csv\")"
   ]
  },
  {
   "cell_type": "code",
   "execution_count": null,
   "metadata": {},
   "outputs": [],
   "source": []
  }
 ],
 "metadata": {
  "kernelspec": {
   "display_name": "Python 3",
   "language": "python",
   "name": "python3"
  },
  "language_info": {
   "codemirror_mode": {
    "name": "ipython",
    "version": 3
   },
   "file_extension": ".py",
   "mimetype": "text/x-python",
   "name": "python",
   "nbconvert_exporter": "python",
   "pygments_lexer": "ipython3",
   "version": "3.8.10"
  }
 },
 "nbformat": 4,
 "nbformat_minor": 2
}
